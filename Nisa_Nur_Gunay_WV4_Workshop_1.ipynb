{
  "nbformat": 4,
  "nbformat_minor": 0,
  "metadata": {
    "colab": {
      "provenance": [],
      "authorship_tag": "ABX9TyN6rPF4TIR6tLgy3N2Wepx7",
      "include_colab_link": true
    },
    "kernelspec": {
      "name": "python3",
      "display_name": "Python 3"
    },
    "language_info": {
      "name": "python"
    }
  },
  "cells": [
    {
      "cell_type": "markdown",
      "metadata": {
        "id": "view-in-github",
        "colab_type": "text"
      },
      "source": [
        "<a href=\"https://colab.research.google.com/github/nsnrgny/nsnrgny02/blob/main/Nisa_Nur_Gunay_WV4_Workshop_1.ipynb\" target=\"_parent\"><img src=\"https://colab.research.google.com/assets/colab-badge.svg\" alt=\"Open In Colab\"/></a>"
      ]
    },
    {
      "cell_type": "code",
      "source": [
        "# print('Hello, World!')"
      ],
      "metadata": {
        "id": "pJnqU2S3adwS"
      },
      "execution_count": null,
      "outputs": []
    },
    {
      "cell_type": "code",
      "source": [
        "Building_name = 'Bouwkunde' # str data type\n",
        "Year_built = 1945 # int data type\n",
        "Area = 14847.0 # float data type\n",
        "Has_library = True # Boolean"
      ],
      "metadata": {
        "id": "Wh2agfGHbu0G"
      },
      "execution_count": null,
      "outputs": []
    },
    {
      "cell_type": "code",
      "source": [
        "print(Building_name, Year_built, Area, Has_library)"
      ],
      "metadata": {
        "colab": {
          "base_uri": "https://localhost:8080/"
        },
        "id": "bfe-_KXtck4a",
        "outputId": "88ce3744-c276-446c-be32-3010b0b9120a"
      },
      "execution_count": null,
      "outputs": [
        {
          "output_type": "stream",
          "name": "stdout",
          "text": [
            "Bouwkunde 1945 14847.0 True\n"
          ]
        }
      ]
    },
    {
      "cell_type": "code",
      "source": [
        "data = [0,1,1,2,3,5,8,13,21,34] # A list of integers\n",
        "print(data)"
      ],
      "metadata": {
        "colab": {
          "base_uri": "https://localhost:8080/"
        },
        "id": "lFMsloKK4G0G",
        "outputId": "a3570f60-2836-4cfa-e1ef-bdbe7cb21445"
      },
      "execution_count": null,
      "outputs": [
        {
          "output_type": "stream",
          "name": "stdout",
          "text": [
            "[0, 1, 1, 2, 3, 5, 8, 13, 21, 34]\n"
          ]
        }
      ]
    },
    {
      "cell_type": "code",
      "source": [
        "data = [0,1,1,2,3,5,8,13,21,34] # A list of integers\n",
        "print(data)\n",
        "\n",
        "print(data[0])\n",
        "print(data[6])\n",
        "print(data[2:6])\n",
        "print(data[:4])\n",
        "print(data[4:])"
      ],
      "metadata": {
        "colab": {
          "base_uri": "https://localhost:8080/"
        },
        "id": "BFF51un35e-J",
        "outputId": "3bf7325e-d38a-4bdb-b311-95c968e134f2"
      },
      "execution_count": null,
      "outputs": [
        {
          "output_type": "stream",
          "name": "stdout",
          "text": [
            "[0, 1, 1, 2, 3, 5, 8, 13, 21, 34]\n",
            "0\n",
            "8\n",
            "[1, 2, 3, 5]\n",
            "[0, 1, 1, 2]\n",
            "[3, 5, 8, 13, 21, 34]\n"
          ]
        }
      ]
    },
    {
      "cell_type": "code",
      "source": [
        "a = 4\n",
        "b = 6.0\n",
        "print(type(a))\n",
        "print(type(b))\n",
        "\n",
        "print(type(a)) # before changing the type\n",
        "a = float(a)   # changing type from int to float\n",
        "print(type(a)) # print the change to verify\n",
        "\n"
      ],
      "metadata": {
        "colab": {
          "base_uri": "https://localhost:8080/"
        },
        "id": "lWPoiJHy72qC",
        "outputId": "f7cb5097-2b77-4758-dbbc-5055f266650f"
      },
      "execution_count": null,
      "outputs": [
        {
          "output_type": "stream",
          "name": "stdout",
          "text": [
            "<class 'int'>\n",
            "<class 'float'>\n",
            "<class 'int'>\n",
            "<class 'float'>\n"
          ]
        }
      ]
    },
    {
      "cell_type": "code",
      "source": [
        "print(a + b)\n",
        "print(b / a)\n",
        "print(a * b)\n",
        "print((a * a)+(b * b))\n",
        "print(a>b)"
      ],
      "metadata": {
        "colab": {
          "base_uri": "https://localhost:8080/"
        },
        "id": "aXxoI8gQ8ovY",
        "outputId": "8f63ec39-92d3-4300-9331-b66361caf7f9"
      },
      "execution_count": null,
      "outputs": [
        {
          "output_type": "stream",
          "name": "stdout",
          "text": [
            "10.0\n",
            "1.5\n",
            "24.0\n",
            "52.0\n",
            "False\n"
          ]
        }
      ]
    },
    {
      "cell_type": "code",
      "source": [
        "area = 15000\n",
        "\n",
        "if area >= 30000:\n",
        "  print(\"large scale building\")\n",
        "elif area >= 15000:\n",
        "  print('medium scale building')\n",
        "else:\n",
        "  print('small scale building')"
      ],
      "metadata": {
        "colab": {
          "base_uri": "https://localhost:8080/"
        },
        "id": "Am_AA3jXDoQR",
        "outputId": "6f530f02-9dbc-4a83-e40a-8a2faa135010"
      },
      "execution_count": null,
      "outputs": [
        {
          "output_type": "stream",
          "name": "stdout",
          "text": [
            "medium scale building\n"
          ]
        }
      ]
    },
    {
      "cell_type": "code",
      "source": [
        "floor_areas = [650,100,300,250]\n",
        "sorted_data = sorted(floor_areas)\n",
        "\n",
        "n = len(sorted_data)\n",
        "\n",
        "if n % 2 == 1:\n",
        "    median = sorted_data[n // 2]\n",
        "else:\n",
        "    median = (sorted_data [n // 2] + sorted_data [n // 2 - 1]) / 2\n",
        "print(\"Median =\", median)"
      ],
      "metadata": {
        "colab": {
          "base_uri": "https://localhost:8080/"
        },
        "id": "ac2mrfufHKW3",
        "outputId": "00b25a07-dc51-412f-e866-5b263b745dbe"
      },
      "execution_count": null,
      "outputs": [
        {
          "output_type": "stream",
          "name": "stdout",
          "text": [
            "Median = 275.0\n"
          ]
        }
      ]
    },
    {
      "cell_type": "code",
      "source": [
        "data = [0, 1, 1, 2, 3, 5, 8, 13, 21, 34]  # a list of integers\n",
        "\n",
        "# create empty list to store values in\n",
        "even_numbers = [] # assignign variable for even numbers\n",
        "odd_numbers = [] # assignign variable for odd numbers\n",
        "\n",
        "# iterate over each value in the list\n",
        "for i in data:\n",
        "    # Check if i value is an even number\n",
        "    if i % 2 == 0:\n",
        "        even_numbers.append(i) # even numbers are added to the list variable\n",
        "\n",
        "    # Otherwise the value is an odd number\n",
        "    else:\n",
        "        odd_numbers.append(i) # odd numbers are added to the list variable\n",
        "\n",
        "# Display the outcome of checking the data in the list\n",
        "print(\"The number of even numbers are:\",(len(even_numbers)))\n",
        "print(\"The number of odd numbers are:\",(len(odd_numbers)))\n",
        "print(\"List of even integers:\", even_numbers)\n",
        "print(\"List of odd integers:\", odd_numbers)"
      ],
      "metadata": {
        "id": "KJKFxSmxKkbm",
        "outputId": "571d761b-86ee-40f9-a084-084d871aa8cd",
        "colab": {
          "base_uri": "https://localhost:8080/"
        }
      },
      "execution_count": null,
      "outputs": [
        {
          "output_type": "stream",
          "name": "stdout",
          "text": [
            "The number of even numbers are: 4\n",
            "The number of odd numbers are: 6\n",
            "List of even integers: [0, 2, 8, 34]\n",
            "List of odd integers: [1, 1, 3, 5, 13, 21]\n"
          ]
        }
      ]
    }
  ]
}